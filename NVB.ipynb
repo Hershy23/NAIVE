{
 "cells": [
  {
   "cell_type": "code",
   "execution_count": null,
   "id": "b732cedb-b7b1-4263-a3c1-4a22f300f97d",
   "metadata": {},
   "outputs": [],
   "source": [
    "import numpy as np\n",
    "import joblib\n",
    "from sklearn.datasets import fetch_openml\n",
    "from sklearn.model_selection import train_test_split\n",
    "\n",
    "class GaussianNB:\n",
    "    def __init__(self):\n",
    "        self.priors = {}\n",
    "        self.mean = {}\n",
    "        self.var = {}\n",
    "\n",
    "    def fit(self, X, y):\n",
    "        self.classes = np.unique(y)\n",
    "        for c in self.classes:\n",
    "            X_c = X[y == c]\n",
    "            self.mean[c] = X_c.mean(axis=0)\n",
    "            self.var[c] = X_c.var(axis=0) + 1e-6\n",
    "            self.priors[c] = len(X_c) / len(X)\n",
    "\n",
    "    def gaussian_pdf(self, x, mean, var):\n",
    "        exponent = np.exp(-((x - mean) ** 2) / (2 * var))\n",
    "        return (1 / np.sqrt(2 * np.pi * var)) * exponent\n",
    "\n",
    "    def predict(self, X):\n",
    "        predictions = []\n",
    "        for x in X:\n",
    "            posteriors = {}\n",
    "            for c in self.classes:\n",
    "                prior = np.log(self.priors[c])\n",
    "                likelihood = np.sum(np.log(self.gaussian_pdf(x, self.mean[c], self.var[c])))\n",
    "                posteriors[c] = prior + likelihood\n",
    "            predictions.append(max(posteriors, key=posteriors.get))\n",
    "        return np.array(predictions)\n",
    "\n",
    "# Train and save the model\n",
    "def train_and_save():\n",
    "    mnist = fetch_openml('mnist_784', version=1, as_frame=False)\n",
    "    X, y = mnist.data, mnist.target.astype(int)\n",
    "\n",
    "    X = X / 255.0  # Normalize\n",
    "    X_train, X_test, y_train, y_test = train_test_split(X, y, test_size=0.2, random_state=42)\n",
    "\n",
    "    gnb = GaussianNB()\n",
    "    gnb.fit(X_train, y_train)\n",
    "\n",
    "    joblib.dump(gnb, \"gaussian_nb_model.pkl\")\n",
    "    print(\"Model saved as gaussian_nb_model.pkl\")\n",
    "\n",
    "if __name__ == \"__main__\":\n",
    "    train_and_save()\n"
   ]
  }
 ],
 "metadata": {
  "kernelspec": {
   "display_name": "Python 3 (ipykernel)",
   "language": "python",
   "name": "python3"
  },
  "language_info": {
   "codemirror_mode": {
    "name": "ipython",
    "version": 3
   },
   "file_extension": ".py",
   "mimetype": "text/x-python",
   "name": "python",
   "nbconvert_exporter": "python",
   "pygments_lexer": "ipython3",
   "version": "3.12.7"
  }
 },
 "nbformat": 4,
 "nbformat_minor": 5
}
